{
  "cells": [
    {
      "cell_type": "code",
      "execution_count": null,
      "metadata": {
        "id": "3ZxbEACdxOGK"
      },
      "outputs": [],
      "source": [
        "sdw2023_api_url = 'https://sdw-2023-prd.up.railway.app'"
      ]
    },
    {
      "cell_type": "code",
      "execution_count": null,
      "metadata": {
        "colab": {
          "base_uri": "https://localhost:8080/"
        },
        "id": "98oWroPQkdS-",
        "outputId": "dd0fc016-9cbd-4392-ef4e-604ff507ae46"
      },
      "outputs": [
        {
          "name": "stdout",
          "output_type": "stream",
          "text": [
            "[5808, 5809, 5810, 5813]\n"
          ]
        }
      ],
      "source": [
        "#extract\n",
        "\n",
        "import pandas as pd\n",
        "\n",
        "df = pd.read_csv('SDW2023.csv')\n",
        "\n",
        "user_ids = df['UserID'].tolist()\n",
        "print(user_ids)"
      ]
    },
    {
      "cell_type": "code",
      "execution_count": null,
      "metadata": {
        "colab": {
          "base_uri": "https://localhost:8080/"
        },
        "id": "XRS_OAfAwKoC",
        "outputId": "275eaae8-1902-4846-fac1-78061d4f552d"
      },
      "outputs": [
        {
          "name": "stdout",
          "output_type": "stream",
          "text": [
            "[\n",
            "  {\n",
            "    \"id\": 5808,\n",
            "    \"name\": \"Pyterson\",\n",
            "    \"account\": {\n",
            "      \"id\": 6156,\n",
            "      \"number\": \"42352-1\",\n",
            "      \"agency\": \"0001\",\n",
            "      \"balance\": 0.0,\n",
            "      \"limit\": 500.0\n",
            "    },\n",
            "    \"card\": {\n",
            "      \"id\": 5644,\n",
            "      \"number\": \"**** **** **** 5321\",\n",
            "      \"limit\": 1000.0\n",
            "    },\n",
            "    \"features\": [],\n",
            "    \"news\": []\n",
            "  },\n",
            "  {\n",
            "    \"id\": 5809,\n",
            "    \"name\": \"Pip\",\n",
            "    \"account\": {\n",
            "      \"id\": 6157,\n",
            "      \"number\": \"94381-1\",\n",
            "      \"agency\": \"0001\",\n",
            "      \"balance\": 0.0,\n",
            "      \"limit\": 500.0\n",
            "    },\n",
            "    \"card\": {\n",
            "      \"id\": 5645,\n",
            "      \"number\": \"**** **** **** 1890\",\n",
            "      \"limit\": 1000.0\n",
            "    },\n",
            "    \"features\": [],\n",
            "    \"news\": []\n",
            "  },\n",
            "  {\n",
            "    \"id\": 5810,\n",
            "    \"name\": \"Pep\",\n",
            "    \"account\": {\n",
            "      \"id\": 6158,\n",
            "      \"number\": \"90821-1\",\n",
            "      \"agency\": \"0001\",\n",
            "      \"balance\": 0.0,\n",
            "      \"limit\": 500.0\n",
            "    },\n",
            "    \"card\": {\n",
            "      \"id\": 5646,\n",
            "      \"number\": \"**** **** **** 9521\",\n",
            "      \"limit\": 1000.0\n",
            "    },\n",
            "    \"features\": [],\n",
            "    \"news\": []\n",
            "  },\n",
            "  {\n",
            "    \"id\": 5813,\n",
            "    \"name\": \"Gb\",\n",
            "    \"account\": {\n",
            "      \"id\": 6159,\n",
            "      \"number\": \"95234-1\",\n",
            "      \"agency\": \"0001\",\n",
            "      \"balance\": 0.0,\n",
            "      \"limit\": 5000.0\n",
            "    },\n",
            "    \"card\": {\n",
            "      \"id\": 5649,\n",
            "      \"number\": \"**** **** **** 7832\",\n",
            "      \"limit\": 1000.0\n",
            "    },\n",
            "    \"features\": [],\n",
            "    \"news\": []\n",
            "  }\n",
            "]\n"
          ]
        }
      ],
      "source": [
        "#bibliotecas\n",
        "\n",
        "import requests\n",
        "import json\n",
        "\n",
        "def get_user(id):\n",
        "  response = requests.get(f'{sdw2023_api_url}/users/{id}')\n",
        "  return response.json() if response.status_code == 200 else None\n",
        "\n",
        "users = [user for id in user_ids if (user := get_user(id)) is not None]\n",
        "print(json.dumps(users, indent=2))\n"
      ]
    },
    {
      "cell_type": "code",
      "execution_count": null,
      "metadata": {
        "colab": {
          "base_uri": "https://localhost:8080/"
        },
        "id": "t5T7hiJKzbM9",
        "outputId": "12320761-ece5-41be-8471-517ebc578e95"
      },
      "outputs": [
        {
          "name": "stdout",
          "output_type": "stream",
          "text": [
            "Requirement already satisfied: openai in /usr/local/lib/python3.10/dist-packages (0.28.1)\n",
            "Requirement already satisfied: requests>=2.20 in /usr/local/lib/python3.10/dist-packages (from openai) (2.31.0)\n",
            "Requirement already satisfied: tqdm in /usr/local/lib/python3.10/dist-packages (from openai) (4.66.1)\n",
            "Requirement already satisfied: aiohttp in /usr/local/lib/python3.10/dist-packages (from openai) (3.8.6)\n",
            "Requirement already satisfied: charset-normalizer<4,>=2 in /usr/local/lib/python3.10/dist-packages (from requests>=2.20->openai) (3.3.0)\n",
            "Requirement already satisfied: idna<4,>=2.5 in /usr/local/lib/python3.10/dist-packages (from requests>=2.20->openai) (3.4)\n",
            "Requirement already satisfied: urllib3<3,>=1.21.1 in /usr/local/lib/python3.10/dist-packages (from requests>=2.20->openai) (2.0.7)\n",
            "Requirement already satisfied: certifi>=2017.4.17 in /usr/local/lib/python3.10/dist-packages (from requests>=2.20->openai) (2023.7.22)\n",
            "Requirement already satisfied: attrs>=17.3.0 in /usr/local/lib/python3.10/dist-packages (from aiohttp->openai) (23.1.0)\n",
            "Requirement already satisfied: multidict<7.0,>=4.5 in /usr/local/lib/python3.10/dist-packages (from aiohttp->openai) (6.0.4)\n",
            "Requirement already satisfied: async-timeout<5.0,>=4.0.0a3 in /usr/local/lib/python3.10/dist-packages (from aiohttp->openai) (4.0.3)\n",
            "Requirement already satisfied: yarl<2.0,>=1.0 in /usr/local/lib/python3.10/dist-packages (from aiohttp->openai) (1.9.2)\n",
            "Requirement already satisfied: frozenlist>=1.1.1 in /usr/local/lib/python3.10/dist-packages (from aiohttp->openai) (1.4.0)\n",
            "Requirement already satisfied: aiosignal>=1.1.2 in /usr/local/lib/python3.10/dist-packages (from aiohttp->openai) (1.3.1)\n"
          ]
        }
      ],
      "source": [
        "#api chatgpt\n",
        "!pip install openai"
      ]
    },
    {
      "cell_type": "code",
      "execution_count": null,
      "metadata": {
        "id": "hyi4wu0r0BTC"
      },
      "outputs": [],
      "source": [
        "openai_api_key = 'insira sua key aqui'"
      ]
    },
    {
      "cell_type": "code",
      "execution_count": null,
      "metadata": {
        "id": "n2wTf1Uv0P6s"
      },
      "outputs": [],
      "source": [
        "import openai\n",
        "\n",
        "openai.api_key = openai_api_key\n",
        "\n"
      ]
    },
    {
      "cell_type": "code",
      "execution_count": 30,
      "metadata": {
        "id": "KAgwfddD0WR7"
      },
      "outputs": [],
      "source": [
        "#configurando o bot\n",
        "\n",
        "def generate_ai_news(user):\n",
        "  completion = openai.ChatCompletion.create(\n",
        "    model=\"gpt-3.5-turbo\",\n",
        "    messages=[\n",
        "      {\n",
        "          \"role\": \"system\",\n",
        "          \"content\": \"Você é um especialista em markting bancário.\"\n",
        "      },\n",
        "      {\n",
        "          \"role\": \"user\",\n",
        "          \"content\": f\"Crie uma mensagem para {user['name']} sobre a importância dos investimentos (máximo de 100 caracteres)\"\n",
        "      }\n",
        "    ]\n",
        "  )\n",
        "  return completion.choices[0].message.content.strip('\\\"')\n",
        "\n",
        "  for user in users:\n",
        "    news = generate_ai_news(user)\n",
        "    print(news)"
      ]
    },
    {
      "cell_type": "code",
      "execution_count": 34,
      "metadata": {
        "colab": {
          "base_uri": "https://localhost:8080/"
        },
        "id": "LxAVlVS79dUu",
        "outputId": "1fd97fe8-c011-40e3-f463-7271954eade7"
      },
      "outputs": [
        {
          "name": "stdout",
          "output_type": "stream",
          "text": [
            "User Pyterson updated? True!\n",
            "User Pip updated? True!\n",
            "User Pep updated? True!\n",
            "User Gb updated? True!\n"
          ]
        }
      ],
      "source": [
        "def update_user(user):\n",
        "  response = requests.put(f\"{sdw2023_api_url}/users/{user['id']}\", json=user)\n",
        "  return True if response.status_code == 200 else False\n",
        "\n",
        "for user in users:\n",
        "  success = update_user(user)\n",
        "  print(f\"User {user['name']} updated? {success}!\")"
      ]
    }
  ],
  "metadata": {
    "colab": {
      "provenance": []
    },
    "kernelspec": {
      "display_name": "Python 3",
      "name": "python3"
    },
    "language_info": {
      "name": "python"
    }
  },
  "nbformat": 4,
  "nbformat_minor": 0
}
